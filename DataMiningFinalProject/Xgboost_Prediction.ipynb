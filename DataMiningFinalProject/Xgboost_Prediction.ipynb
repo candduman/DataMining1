{
 "cells": [
  {
   "cell_type": "markdown",
   "id": "eba799c8",
   "metadata": {},
   "source": [
    "# Libraries"
   ]
  },
  {
   "cell_type": "code",
   "execution_count": 1,
   "id": "57ab882f",
   "metadata": {},
   "outputs": [],
   "source": [
    "import pandas as pd\n",
    "import xgboost as xgb\n",
    "from xgboost import XGBRegressor\n",
    "from sklearn.model_selection import train_test_split, GridSearchCV,cross_val_score\n",
    "from sklearn.metrics import mean_squared_error, r2_score\n",
    "import numpy as np\n",
    "from sklearn import model_selection\n",
    "from sklearn import preprocessing\n",
    "datasetfinal=\"DatasetFinal.xlsx\"\n",
    "datasetstring =\"Dataset.xlsx\"\n",
    "datasetfilledstring = \"DataSetNotNull.xlsx\""
   ]
  },
  {
   "cell_type": "code",
   "execution_count": 2,
   "id": "baaa2a65",
   "metadata": {},
   "outputs": [
    {
     "data": {
      "text/plain": [
       "Index(['Book_ISBN', 'Book_Name', 'Book_Publisher', 'Book_Author', 'Book_Price',\n",
       "       'Book_Page', 'Book_Publish_Date', 'Book_Rate', 'Book_Rating_Amount',\n",
       "       'Book_Detail'],\n",
       "      dtype='object')"
      ]
     },
     "execution_count": 2,
     "metadata": {},
     "output_type": "execute_result"
    }
   ],
   "source": [
    "dataset=pd.read_excel(datasetfinal)\n",
    "dataset.columns"
   ]
  },
  {
   "cell_type": "code",
   "execution_count": 3,
   "id": "1a0a63ea",
   "metadata": {},
   "outputs": [],
   "source": [
    "dataset = dataset[[\"Book_ISBN\", \"Book_Name\",\"Book_Publisher\",\"Book_Author\", \"Book_Price\",\"Book_Page\",\"Book_Publish_Date\",\"Book_Rate\", \"Book_Rating_Amount\",\"Book_Detail\"]]"
   ]
  },
  {
   "attachments": {},
   "cell_type": "markdown",
   "id": "298b3d1c",
   "metadata": {},
   "source": [
    "### Age calculation of books by their Published Year"
   ]
  },
  {
   "cell_type": "code",
   "execution_count": 4,
   "id": "c3c0daa6",
   "metadata": {},
   "outputs": [
    {
     "data": {
      "text/html": [
       "<div>\n",
       "<style scoped>\n",
       "    .dataframe tbody tr th:only-of-type {\n",
       "        vertical-align: middle;\n",
       "    }\n",
       "\n",
       "    .dataframe tbody tr th {\n",
       "        vertical-align: top;\n",
       "    }\n",
       "\n",
       "    .dataframe thead th {\n",
       "        text-align: right;\n",
       "    }\n",
       "</style>\n",
       "<table border=\"1\" class=\"dataframe\">\n",
       "  <thead>\n",
       "    <tr style=\"text-align: right;\">\n",
       "      <th></th>\n",
       "      <th>Book_ISBN</th>\n",
       "      <th>Book_Name</th>\n",
       "      <th>Book_Publisher</th>\n",
       "      <th>Book_Author</th>\n",
       "      <th>Book_Price</th>\n",
       "      <th>Book_Page</th>\n",
       "      <th>Book_Publish_Date</th>\n",
       "      <th>Book_Rate</th>\n",
       "      <th>Book_Rating_Amount</th>\n",
       "      <th>Book_Detail</th>\n",
       "      <th>Age</th>\n",
       "    </tr>\n",
       "  </thead>\n",
       "  <tbody>\n",
       "    <tr>\n",
       "      <th>0</th>\n",
       "      <td>9781847941831</td>\n",
       "      <td>61</td>\n",
       "      <td>31</td>\n",
       "      <td>244</td>\n",
       "      <td>20.55</td>\n",
       "      <td>320</td>\n",
       "      <td>2018</td>\n",
       "      <td>4.38</td>\n",
       "      <td>508.702</td>\n",
       "      <td>6</td>\n",
       "      <td>5</td>\n",
       "    </tr>\n",
       "    <tr>\n",
       "      <th>1</th>\n",
       "      <td>9780857504791</td>\n",
       "      <td>557</td>\n",
       "      <td>130</td>\n",
       "      <td>463</td>\n",
       "      <td>33.86</td>\n",
       "      <td>416</td>\n",
       "      <td>2023</td>\n",
       "      <td>3.07</td>\n",
       "      <td>127.000</td>\n",
       "      <td>4</td>\n",
       "      <td>0</td>\n",
       "    </tr>\n",
       "    <tr>\n",
       "      <th>2</th>\n",
       "      <td>9781471156267</td>\n",
       "      <td>337</td>\n",
       "      <td>161</td>\n",
       "      <td>109</td>\n",
       "      <td>11.10</td>\n",
       "      <td>384</td>\n",
       "      <td>2016</td>\n",
       "      <td>4.34</td>\n",
       "      <td>1904.211</td>\n",
       "      <td>6</td>\n",
       "      <td>7</td>\n",
       "    </tr>\n",
       "    <tr>\n",
       "      <th>3</th>\n",
       "      <td>9781529029581</td>\n",
       "      <td>74</td>\n",
       "      <td>126</td>\n",
       "      <td>595</td>\n",
       "      <td>12.08</td>\n",
       "      <td>224</td>\n",
       "      <td>2019</td>\n",
       "      <td>3.75</td>\n",
       "      <td>178.831</td>\n",
       "      <td>6</td>\n",
       "      <td>4</td>\n",
       "    </tr>\n",
       "    <tr>\n",
       "      <th>4</th>\n",
       "      <td>9781398515697</td>\n",
       "      <td>532</td>\n",
       "      <td>161</td>\n",
       "      <td>574</td>\n",
       "      <td>10.87</td>\n",
       "      <td>400</td>\n",
       "      <td>2021</td>\n",
       "      <td>4.46</td>\n",
       "      <td>1711.333</td>\n",
       "      <td>6</td>\n",
       "      <td>2</td>\n",
       "    </tr>\n",
       "    <tr>\n",
       "      <th>...</th>\n",
       "      <td>...</td>\n",
       "      <td>...</td>\n",
       "      <td>...</td>\n",
       "      <td>...</td>\n",
       "      <td>...</td>\n",
       "      <td>...</td>\n",
       "      <td>...</td>\n",
       "      <td>...</td>\n",
       "      <td>...</td>\n",
       "      <td>...</td>\n",
       "      <td>...</td>\n",
       "    </tr>\n",
       "    <tr>\n",
       "      <th>930</th>\n",
       "      <td>9781405955027</td>\n",
       "      <td>239</td>\n",
       "      <td>128</td>\n",
       "      <td>476</td>\n",
       "      <td>14.60</td>\n",
       "      <td>688</td>\n",
       "      <td>2022</td>\n",
       "      <td>4.48</td>\n",
       "      <td>55.138</td>\n",
       "      <td>6</td>\n",
       "      <td>1</td>\n",
       "    </tr>\n",
       "    <tr>\n",
       "      <th>931</th>\n",
       "      <td>9781405297714</td>\n",
       "      <td>216</td>\n",
       "      <td>66</td>\n",
       "      <td>565</td>\n",
       "      <td>10.87</td>\n",
       "      <td>176</td>\n",
       "      <td>2019</td>\n",
       "      <td>4.12</td>\n",
       "      <td>9.562</td>\n",
       "      <td>6</td>\n",
       "      <td>4</td>\n",
       "    </tr>\n",
       "    <tr>\n",
       "      <th>932</th>\n",
       "      <td>9781405297042</td>\n",
       "      <td>326</td>\n",
       "      <td>66</td>\n",
       "      <td>565</td>\n",
       "      <td>11.51</td>\n",
       "      <td>464</td>\n",
       "      <td>2020</td>\n",
       "      <td>3.96</td>\n",
       "      <td>83.971</td>\n",
       "      <td>6</td>\n",
       "      <td>3</td>\n",
       "    </tr>\n",
       "    <tr>\n",
       "      <th>933</th>\n",
       "      <td>9781405291774</td>\n",
       "      <td>324</td>\n",
       "      <td>66</td>\n",
       "      <td>565</td>\n",
       "      <td>11.35</td>\n",
       "      <td>416</td>\n",
       "      <td>2018</td>\n",
       "      <td>4.45</td>\n",
       "      <td>284.364</td>\n",
       "      <td>6</td>\n",
       "      <td>5</td>\n",
       "    </tr>\n",
       "    <tr>\n",
       "      <th>934</th>\n",
       "      <td>9781405291767</td>\n",
       "      <td>858</td>\n",
       "      <td>66</td>\n",
       "      <td>565</td>\n",
       "      <td>11.81</td>\n",
       "      <td>480</td>\n",
       "      <td>2018</td>\n",
       "      <td>4.18</td>\n",
       "      <td>334.606</td>\n",
       "      <td>6</td>\n",
       "      <td>5</td>\n",
       "    </tr>\n",
       "  </tbody>\n",
       "</table>\n",
       "<p>935 rows × 11 columns</p>\n",
       "</div>"
      ],
      "text/plain": [
       "         Book_ISBN  Book_Name  Book_Publisher  Book_Author  Book_Price  \\\n",
       "0    9781847941831         61              31          244       20.55   \n",
       "1    9780857504791        557             130          463       33.86   \n",
       "2    9781471156267        337             161          109       11.10   \n",
       "3    9781529029581         74             126          595       12.08   \n",
       "4    9781398515697        532             161          574       10.87   \n",
       "..             ...        ...             ...          ...         ...   \n",
       "930  9781405955027        239             128          476       14.60   \n",
       "931  9781405297714        216              66          565       10.87   \n",
       "932  9781405297042        326              66          565       11.51   \n",
       "933  9781405291774        324              66          565       11.35   \n",
       "934  9781405291767        858              66          565       11.81   \n",
       "\n",
       "     Book_Page  Book_Publish_Date  Book_Rate  Book_Rating_Amount  Book_Detail  \\\n",
       "0          320               2018       4.38             508.702            6   \n",
       "1          416               2023       3.07             127.000            4   \n",
       "2          384               2016       4.34            1904.211            6   \n",
       "3          224               2019       3.75             178.831            6   \n",
       "4          400               2021       4.46            1711.333            6   \n",
       "..         ...                ...        ...                 ...          ...   \n",
       "930        688               2022       4.48              55.138            6   \n",
       "931        176               2019       4.12               9.562            6   \n",
       "932        464               2020       3.96              83.971            6   \n",
       "933        416               2018       4.45             284.364            6   \n",
       "934        480               2018       4.18             334.606            6   \n",
       "\n",
       "     Age  \n",
       "0      5  \n",
       "1      0  \n",
       "2      7  \n",
       "3      4  \n",
       "4      2  \n",
       "..   ...  \n",
       "930    1  \n",
       "931    4  \n",
       "932    3  \n",
       "933    5  \n",
       "934    5  \n",
       "\n",
       "[935 rows x 11 columns]"
      ]
     },
     "execution_count": 4,
     "metadata": {},
     "output_type": "execute_result"
    }
   ],
   "source": [
    "dataset['Age'] = 2023 - dataset['Book_Publish_Date']\n",
    "dataset"
   ]
  },
  {
   "cell_type": "markdown",
   "id": "182f3467",
   "metadata": {},
   "source": [
    "### Dependent and Independent Variables"
   ]
  },
  {
   "cell_type": "code",
   "execution_count": 5,
   "id": "b04e7678",
   "metadata": {},
   "outputs": [],
   "source": [
    "# Published_Date is dropped becasuse of the calculation of age. X is independent variables.\n",
    "X = dataset.drop([\"Book_Price\",\"Book_Publisher\",\"Book_Publish_Date\"], axis = 1)\n",
    "# Y is dependent variable\n",
    "y = dataset[\"Book_Price\"]"
   ]
  },
  {
   "cell_type": "code",
   "execution_count": 6,
   "id": "33fbf4bb",
   "metadata": {},
   "outputs": [],
   "source": [
    "X_train, X_test, y_train, y_test = train_test_split(X, y, test_size = 0.20, random_state = 42)"
   ]
  },
  {
   "cell_type": "code",
   "execution_count": 7,
   "id": "53946d40",
   "metadata": {},
   "outputs": [],
   "source": [
    "#Search parameters\n",
    "params = {\"colsample_bytree\":[0.4,0.5,0.6],\n",
    "         \"learning_rate\":[0.01,0.02,0.09],\n",
    "         \"max_depth\":[2,3,4,5,6],\n",
    "         \"n_estimators\":[100,200,500,2000]}"
   ]
  },
  {
   "cell_type": "code",
   "execution_count": 8,
   "id": "5659a9b1",
   "metadata": {},
   "outputs": [],
   "source": [
    "xgb = XGBRegressor()"
   ]
  },
  {
   "cell_type": "code",
   "execution_count": 9,
   "id": "22524b8f",
   "metadata": {},
   "outputs": [],
   "source": [
    "grid = GridSearchCV(xgb, params, cv = 10, n_jobs = -1, verbose = 2)"
   ]
  },
  {
   "cell_type": "code",
   "execution_count": 10,
   "id": "e986f565",
   "metadata": {},
   "outputs": [
    {
     "name": "stdout",
     "output_type": "stream",
     "text": [
      "Fitting 10 folds for each of 180 candidates, totalling 1800 fits\n"
     ]
    },
    {
     "data": {
      "text/html": [
       "<style>#sk-container-id-1 {color: black;background-color: white;}#sk-container-id-1 pre{padding: 0;}#sk-container-id-1 div.sk-toggleable {background-color: white;}#sk-container-id-1 label.sk-toggleable__label {cursor: pointer;display: block;width: 100%;margin-bottom: 0;padding: 0.3em;box-sizing: border-box;text-align: center;}#sk-container-id-1 label.sk-toggleable__label-arrow:before {content: \"▸\";float: left;margin-right: 0.25em;color: #696969;}#sk-container-id-1 label.sk-toggleable__label-arrow:hover:before {color: black;}#sk-container-id-1 div.sk-estimator:hover label.sk-toggleable__label-arrow:before {color: black;}#sk-container-id-1 div.sk-toggleable__content {max-height: 0;max-width: 0;overflow: hidden;text-align: left;background-color: #f0f8ff;}#sk-container-id-1 div.sk-toggleable__content pre {margin: 0.2em;color: black;border-radius: 0.25em;background-color: #f0f8ff;}#sk-container-id-1 input.sk-toggleable__control:checked~div.sk-toggleable__content {max-height: 200px;max-width: 100%;overflow: auto;}#sk-container-id-1 input.sk-toggleable__control:checked~label.sk-toggleable__label-arrow:before {content: \"▾\";}#sk-container-id-1 div.sk-estimator input.sk-toggleable__control:checked~label.sk-toggleable__label {background-color: #d4ebff;}#sk-container-id-1 div.sk-label input.sk-toggleable__control:checked~label.sk-toggleable__label {background-color: #d4ebff;}#sk-container-id-1 input.sk-hidden--visually {border: 0;clip: rect(1px 1px 1px 1px);clip: rect(1px, 1px, 1px, 1px);height: 1px;margin: -1px;overflow: hidden;padding: 0;position: absolute;width: 1px;}#sk-container-id-1 div.sk-estimator {font-family: monospace;background-color: #f0f8ff;border: 1px dotted black;border-radius: 0.25em;box-sizing: border-box;margin-bottom: 0.5em;}#sk-container-id-1 div.sk-estimator:hover {background-color: #d4ebff;}#sk-container-id-1 div.sk-parallel-item::after {content: \"\";width: 100%;border-bottom: 1px solid gray;flex-grow: 1;}#sk-container-id-1 div.sk-label:hover label.sk-toggleable__label {background-color: #d4ebff;}#sk-container-id-1 div.sk-serial::before {content: \"\";position: absolute;border-left: 1px solid gray;box-sizing: border-box;top: 0;bottom: 0;left: 50%;z-index: 0;}#sk-container-id-1 div.sk-serial {display: flex;flex-direction: column;align-items: center;background-color: white;padding-right: 0.2em;padding-left: 0.2em;position: relative;}#sk-container-id-1 div.sk-item {position: relative;z-index: 1;}#sk-container-id-1 div.sk-parallel {display: flex;align-items: stretch;justify-content: center;background-color: white;position: relative;}#sk-container-id-1 div.sk-item::before, #sk-container-id-1 div.sk-parallel-item::before {content: \"\";position: absolute;border-left: 1px solid gray;box-sizing: border-box;top: 0;bottom: 0;left: 50%;z-index: -1;}#sk-container-id-1 div.sk-parallel-item {display: flex;flex-direction: column;z-index: 1;position: relative;background-color: white;}#sk-container-id-1 div.sk-parallel-item:first-child::after {align-self: flex-end;width: 50%;}#sk-container-id-1 div.sk-parallel-item:last-child::after {align-self: flex-start;width: 50%;}#sk-container-id-1 div.sk-parallel-item:only-child::after {width: 0;}#sk-container-id-1 div.sk-dashed-wrapped {border: 1px dashed gray;margin: 0 0.4em 0.5em 0.4em;box-sizing: border-box;padding-bottom: 0.4em;background-color: white;}#sk-container-id-1 div.sk-label label {font-family: monospace;font-weight: bold;display: inline-block;line-height: 1.2em;}#sk-container-id-1 div.sk-label-container {text-align: center;}#sk-container-id-1 div.sk-container {/* jupyter's `normalize.less` sets `[hidden] { display: none; }` but bootstrap.min.css set `[hidden] { display: none !important; }` so we also need the `!important` here to be able to override the default hidden behavior on the sphinx rendered scikit-learn.org. See: https://github.com/scikit-learn/scikit-learn/issues/21755 */display: inline-block !important;position: relative;}#sk-container-id-1 div.sk-text-repr-fallback {display: none;}</style><div id=\"sk-container-id-1\" class=\"sk-top-container\"><div class=\"sk-text-repr-fallback\"><pre>GridSearchCV(cv=10,\n",
       "             estimator=XGBRegressor(base_score=None, booster=None,\n",
       "                                    callbacks=None, colsample_bylevel=None,\n",
       "                                    colsample_bynode=None,\n",
       "                                    colsample_bytree=None,\n",
       "                                    early_stopping_rounds=None,\n",
       "                                    enable_categorical=False, eval_metric=None,\n",
       "                                    feature_types=None, gamma=None, gpu_id=None,\n",
       "                                    grow_policy=None, importance_type=None,\n",
       "                                    interaction_constraints=None,\n",
       "                                    learning_rate=None,...\n",
       "                                    max_cat_to_onehot=None, max_delta_step=None,\n",
       "                                    max_depth=None, max_leaves=None,\n",
       "                                    min_child_weight=None, missing=nan,\n",
       "                                    monotone_constraints=None, n_estimators=100,\n",
       "                                    n_jobs=None, num_parallel_tree=None,\n",
       "                                    predictor=None, random_state=None, ...),\n",
       "             n_jobs=-1,\n",
       "             param_grid={&#x27;colsample_bytree&#x27;: [0.4, 0.5, 0.6],\n",
       "                         &#x27;learning_rate&#x27;: [0.01, 0.02, 0.09],\n",
       "                         &#x27;max_depth&#x27;: [2, 3, 4, 5, 6],\n",
       "                         &#x27;n_estimators&#x27;: [100, 200, 500, 2000]},\n",
       "             verbose=2)</pre><b>In a Jupyter environment, please rerun this cell to show the HTML representation or trust the notebook. <br />On GitHub, the HTML representation is unable to render, please try loading this page with nbviewer.org.</b></div><div class=\"sk-container\" hidden><div class=\"sk-item sk-dashed-wrapped\"><div class=\"sk-label-container\"><div class=\"sk-label sk-toggleable\"><input class=\"sk-toggleable__control sk-hidden--visually\" id=\"sk-estimator-id-1\" type=\"checkbox\" ><label for=\"sk-estimator-id-1\" class=\"sk-toggleable__label sk-toggleable__label-arrow\">GridSearchCV</label><div class=\"sk-toggleable__content\"><pre>GridSearchCV(cv=10,\n",
       "             estimator=XGBRegressor(base_score=None, booster=None,\n",
       "                                    callbacks=None, colsample_bylevel=None,\n",
       "                                    colsample_bynode=None,\n",
       "                                    colsample_bytree=None,\n",
       "                                    early_stopping_rounds=None,\n",
       "                                    enable_categorical=False, eval_metric=None,\n",
       "                                    feature_types=None, gamma=None, gpu_id=None,\n",
       "                                    grow_policy=None, importance_type=None,\n",
       "                                    interaction_constraints=None,\n",
       "                                    learning_rate=None,...\n",
       "                                    max_cat_to_onehot=None, max_delta_step=None,\n",
       "                                    max_depth=None, max_leaves=None,\n",
       "                                    min_child_weight=None, missing=nan,\n",
       "                                    monotone_constraints=None, n_estimators=100,\n",
       "                                    n_jobs=None, num_parallel_tree=None,\n",
       "                                    predictor=None, random_state=None, ...),\n",
       "             n_jobs=-1,\n",
       "             param_grid={&#x27;colsample_bytree&#x27;: [0.4, 0.5, 0.6],\n",
       "                         &#x27;learning_rate&#x27;: [0.01, 0.02, 0.09],\n",
       "                         &#x27;max_depth&#x27;: [2, 3, 4, 5, 6],\n",
       "                         &#x27;n_estimators&#x27;: [100, 200, 500, 2000]},\n",
       "             verbose=2)</pre></div></div></div><div class=\"sk-parallel\"><div class=\"sk-parallel-item\"><div class=\"sk-item\"><div class=\"sk-label-container\"><div class=\"sk-label sk-toggleable\"><input class=\"sk-toggleable__control sk-hidden--visually\" id=\"sk-estimator-id-2\" type=\"checkbox\" ><label for=\"sk-estimator-id-2\" class=\"sk-toggleable__label sk-toggleable__label-arrow\">estimator: XGBRegressor</label><div class=\"sk-toggleable__content\"><pre>XGBRegressor(base_score=None, booster=None, callbacks=None,\n",
       "             colsample_bylevel=None, colsample_bynode=None,\n",
       "             colsample_bytree=None, early_stopping_rounds=None,\n",
       "             enable_categorical=False, eval_metric=None, feature_types=None,\n",
       "             gamma=None, gpu_id=None, grow_policy=None, importance_type=None,\n",
       "             interaction_constraints=None, learning_rate=None, max_bin=None,\n",
       "             max_cat_threshold=None, max_cat_to_onehot=None,\n",
       "             max_delta_step=None, max_depth=None, max_leaves=None,\n",
       "             min_child_weight=None, missing=nan, monotone_constraints=None,\n",
       "             n_estimators=100, n_jobs=None, num_parallel_tree=None,\n",
       "             predictor=None, random_state=None, ...)</pre></div></div></div><div class=\"sk-serial\"><div class=\"sk-item\"><div class=\"sk-estimator sk-toggleable\"><input class=\"sk-toggleable__control sk-hidden--visually\" id=\"sk-estimator-id-3\" type=\"checkbox\" ><label for=\"sk-estimator-id-3\" class=\"sk-toggleable__label sk-toggleable__label-arrow\">XGBRegressor</label><div class=\"sk-toggleable__content\"><pre>XGBRegressor(base_score=None, booster=None, callbacks=None,\n",
       "             colsample_bylevel=None, colsample_bynode=None,\n",
       "             colsample_bytree=None, early_stopping_rounds=None,\n",
       "             enable_categorical=False, eval_metric=None, feature_types=None,\n",
       "             gamma=None, gpu_id=None, grow_policy=None, importance_type=None,\n",
       "             interaction_constraints=None, learning_rate=None, max_bin=None,\n",
       "             max_cat_threshold=None, max_cat_to_onehot=None,\n",
       "             max_delta_step=None, max_depth=None, max_leaves=None,\n",
       "             min_child_weight=None, missing=nan, monotone_constraints=None,\n",
       "             n_estimators=100, n_jobs=None, num_parallel_tree=None,\n",
       "             predictor=None, random_state=None, ...)</pre></div></div></div></div></div></div></div></div></div></div>"
      ],
      "text/plain": [
       "GridSearchCV(cv=10,\n",
       "             estimator=XGBRegressor(base_score=None, booster=None,\n",
       "                                    callbacks=None, colsample_bylevel=None,\n",
       "                                    colsample_bynode=None,\n",
       "                                    colsample_bytree=None,\n",
       "                                    early_stopping_rounds=None,\n",
       "                                    enable_categorical=False, eval_metric=None,\n",
       "                                    feature_types=None, gamma=None, gpu_id=None,\n",
       "                                    grow_policy=None, importance_type=None,\n",
       "                                    interaction_constraints=None,\n",
       "                                    learning_rate=None,...\n",
       "                                    max_cat_to_onehot=None, max_delta_step=None,\n",
       "                                    max_depth=None, max_leaves=None,\n",
       "                                    min_child_weight=None, missing=nan,\n",
       "                                    monotone_constraints=None, n_estimators=100,\n",
       "                                    n_jobs=None, num_parallel_tree=None,\n",
       "                                    predictor=None, random_state=None, ...),\n",
       "             n_jobs=-1,\n",
       "             param_grid={'colsample_bytree': [0.4, 0.5, 0.6],\n",
       "                         'learning_rate': [0.01, 0.02, 0.09],\n",
       "                         'max_depth': [2, 3, 4, 5, 6],\n",
       "                         'n_estimators': [100, 200, 500, 2000]},\n",
       "             verbose=2)"
      ]
     },
     "execution_count": 10,
     "metadata": {},
     "output_type": "execute_result"
    }
   ],
   "source": [
    "#Find the best parameter for machine learning algorithm\n",
    "grid.fit(X_train, y_train)"
   ]
  },
  {
   "cell_type": "code",
   "execution_count": 11,
   "id": "f4d4b1a7",
   "metadata": {},
   "outputs": [
    {
     "data": {
      "text/plain": [
       "{'colsample_bytree': 0.5,\n",
       " 'learning_rate': 0.02,\n",
       " 'max_depth': 4,\n",
       " 'n_estimators': 200}"
      ]
     },
     "execution_count": 11,
     "metadata": {},
     "output_type": "execute_result"
    }
   ],
   "source": [
    "#Getting Best fitting parameters\n",
    "grid.best_params_"
   ]
  },
  {
   "cell_type": "code",
   "execution_count": 12,
   "id": "7a8dd94e",
   "metadata": {},
   "outputs": [],
   "source": [
    "#Appropriate parameter entry\n",
    "xgb1 = XGBRegressor(colsample_bytree = 0.5, learning_rate = 0.02, max_depth = 4, n_estimators = 200)"
   ]
  },
  {
   "cell_type": "code",
   "execution_count": 13,
   "id": "9a57b32c",
   "metadata": {},
   "outputs": [],
   "source": [
    "#Fit the model\n",
    "model_xgb = xgb1.fit(X_train, y_train)"
   ]
  },
  {
   "cell_type": "code",
   "execution_count": 14,
   "id": "3a59eb66",
   "metadata": {},
   "outputs": [
    {
     "data": {
      "text/plain": [
       "((748, 8), (187, 8))"
      ]
     },
     "execution_count": 14,
     "metadata": {},
     "output_type": "execute_result"
    }
   ],
   "source": [
    "# Shape of the data\n",
    "X_train.shape,X_test.shape"
   ]
  },
  {
   "cell_type": "code",
   "execution_count": 15,
   "id": "9d798eb8",
   "metadata": {},
   "outputs": [
    {
     "data": {
      "text/plain": [
       "array([35.820705, 14.31295 , 15.568503, 24.141945, 25.59559 , 15.728932,\n",
       "       14.672403, 13.182094, 15.365872, 11.900545], dtype=float32)"
      ]
     },
     "execution_count": 15,
     "metadata": {},
     "output_type": "execute_result"
    }
   ],
   "source": [
    "# Predict values\n",
    "model_xgb.predict(X_test)[20:30]"
   ]
  },
  {
   "cell_type": "code",
   "execution_count": 16,
   "id": "e82e0165",
   "metadata": {},
   "outputs": [
    {
     "name": "stderr",
     "output_type": "stream",
     "text": [
      "C:\\Users\\Cann\\AppData\\Local\\Temp\\ipykernel_5592\\3101486405.py:2: FutureWarning: The behavior of `series[i:j]` with an integer-dtype index is deprecated. In a future version, this will be treated as *label-based* indexing, consistent with e.g. `series[i]` lookups. To retain the old behavior, use `series.iloc[i:j]`. To get the future behavior, use `series.loc[i:j]`.\n",
      "  y_test[20:30]\n"
     ]
    },
    {
     "data": {
      "text/plain": [
       "668    42.59\n",
       "490    13.29\n",
       "933    11.35\n",
       "30     20.55\n",
       "323    29.00\n",
       "756    14.00\n",
       "679    20.55\n",
       "606    10.88\n",
       "208    23.72\n",
       "266     9.99\n",
       "Name: Book_Price, dtype: float64"
      ]
     },
     "execution_count": 16,
     "metadata": {},
     "output_type": "execute_result"
    }
   ],
   "source": [
    "# Actual values\n",
    "y_test[20:30]"
   ]
  },
  {
   "cell_type": "code",
   "execution_count": 17,
   "id": "05a7abe2",
   "metadata": {},
   "outputs": [
    {
     "data": {
      "text/plain": [
       "0.747567845968035"
      ]
     },
     "execution_count": 17,
     "metadata": {},
     "output_type": "execute_result"
    }
   ],
   "source": [
    "# Algorithm learning score.It takes a value between 0-1.\n",
    "model_xgb.score(X_test, y_test)"
   ]
  },
  {
   "cell_type": "code",
   "execution_count": 18,
   "id": "6adcde78",
   "metadata": {},
   "outputs": [
    {
     "data": {
      "text/plain": [
       "0.9054789241581829"
      ]
     },
     "execution_count": 18,
     "metadata": {},
     "output_type": "execute_result"
    }
   ],
   "source": [
    "model_xgb.score(X_train, y_train)"
   ]
  },
  {
   "cell_type": "markdown",
   "id": "aaf8ccdc",
   "metadata": {},
   "source": [
    "### Test Error"
   ]
  },
  {
   "cell_type": "code",
   "execution_count": 19,
   "id": "104aebe8",
   "metadata": {},
   "outputs": [
    {
     "name": "stdout",
     "output_type": "stream",
     "text": [
      "Mean square error:  12.313284710995877\n"
     ]
    }
   ],
   "source": [
    "mse=np.sqrt(-1*(cross_val_score(model_xgb, X_test, y_test, cv=10, scoring='neg_mean_squared_error'))).mean()\n",
    "print('Mean square error: ' ,mse)"
   ]
  },
  {
   "cell_type": "code",
   "execution_count": 20,
   "id": "8c668f9f",
   "metadata": {},
   "outputs": [
    {
     "name": "stdout",
     "output_type": "stream",
     "text": [
      "Root mean square error:  3.5090290268101056\n"
     ]
    }
   ],
   "source": [
    "import math\n",
    "rmse = math.sqrt(mse)\n",
    "print('Root mean square error: ', rmse)"
   ]
  },
  {
   "cell_type": "code",
   "execution_count": 21,
   "id": "05a640a3",
   "metadata": {},
   "outputs": [],
   "source": [
    "importance = pd.DataFrame({\"Importance\": model_xgb.feature_importances_},\n",
    "                         index=X_train.columns)"
   ]
  },
  {
   "cell_type": "code",
   "execution_count": 22,
   "id": "500a60bf",
   "metadata": {},
   "outputs": [],
   "source": [
    "importance\n",
    "importance.to_excel(\"ImportanceofAttr.xlsx\")"
   ]
  }
 ],
 "metadata": {
  "kernelspec": {
   "display_name": "Python 3",
   "language": "python",
   "name": "python3"
  },
  "language_info": {
   "codemirror_mode": {
    "name": "ipython",
    "version": 3
   },
   "file_extension": ".py",
   "mimetype": "text/x-python",
   "name": "python",
   "nbconvert_exporter": "python",
   "pygments_lexer": "ipython3",
   "version": "3.11.1"
  },
  "vscode": {
   "interpreter": {
    "hash": "3abe850314512bdeada3737d847b141de4c117bd296feb70b20184bb3944c7d9"
   }
  }
 },
 "nbformat": 4,
 "nbformat_minor": 5
}
